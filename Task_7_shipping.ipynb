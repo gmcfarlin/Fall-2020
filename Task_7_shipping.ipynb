{
 "cells": [
  {
   "cell_type": "code",
   "execution_count": 1,
   "metadata": {},
   "outputs": [],
   "source": [
    "import pandas as pd\n",
    "from pulp import *"
   ]
  },
  {
   "cell_type": "markdown",
   "metadata": {},
   "source": [
    "# Optimization using PuLP method\n",
    "Based on Beer distribution example"
   ]
  },
  {
   "cell_type": "markdown",
   "metadata": {},
   "source": [
    "## 1. Load Data"
   ]
  },
  {
   "cell_type": "code",
   "execution_count": 2,
   "metadata": {},
   "outputs": [],
   "source": [
    "dfShip = pd.read_csv('ship_data.csv')\n",
    "dfSupp = pd.read_csv('supply_data.csv')"
   ]
  },
  {
   "cell_type": "markdown",
   "metadata": {},
   "source": [
    "## 2. Format Data"
   ]
  },
  {
   "cell_type": "code",
   "execution_count": 3,
   "metadata": {},
   "outputs": [],
   "source": [
    "# Create dictionary w/ route tuple as key and cost as value\n",
    "route_cost = dict(zip(zip(dfShip['node_orig'],dfShip['node_dest']), dfShip['cost']))"
   ]
  },
  {
   "cell_type": "code",
   "execution_count": 4,
   "metadata": {},
   "outputs": [
    {
     "data": {
      "text/plain": [
       "{('PHX', 'ORD'): 6,\n",
       " ('PHX', 'ATL'): 7,\n",
       " ('PHX', 'DFW'): 3,\n",
       " ('PHX', 'LAX'): 3,\n",
       " ('AUS', 'LAX'): 7,\n",
       " ('AUS', 'DFW'): 2,\n",
       " ('AUS', 'ATL'): 5,\n",
       " ('GNV', 'DFW'): 6,\n",
       " ('GNV', 'ATL'): 4,\n",
       " ('GNV', 'JFK'): 7,\n",
       " ('DFW', 'LAX'): 5,\n",
       " ('DFW', 'ORD'): 4,\n",
       " ('DFW', 'JFK'): 6,\n",
       " ('DFW', 'ATL'): 2,\n",
       " ('ATL', 'JFK'): 5,\n",
       " ('ATL', 'ORD'): 4,\n",
       " ('ATL', 'DFW'): 2}"
      ]
     },
     "execution_count": 4,
     "metadata": {},
     "output_type": "execute_result"
    }
   ],
   "source": [
    "route_cost"
   ]
  },
  {
   "cell_type": "code",
   "execution_count": 4,
   "metadata": {},
   "outputs": [],
   "source": [
    "# Creat dictionary of each node and their respective supply or demand\n",
    "orig_supply = dict(zip(dfSupp['node'],abs(dfSupp['supply'])))"
   ]
  },
  {
   "cell_type": "code",
   "execution_count": 13,
   "metadata": {},
   "outputs": [],
   "source": [
    "# List +ve supply nodes as suppliers and -ve supply nodes as demanders\n",
    "suppliers = list(dfSupp[dfSupp['supply'] > 0].node)\n",
    "demanders = list(dfSupp[dfSupp['supply'] < 0].node)"
   ]
  },
  {
   "cell_type": "markdown",
   "metadata": {},
   "source": [
    "## 3. Instantiate Problem and Vars using PuLP"
   ]
  },
  {
   "cell_type": "code",
   "execution_count": 8,
   "metadata": {},
   "outputs": [],
   "source": [
    "prob = LpProblem(\"ShippingProblem\",LpMinimize)"
   ]
  },
  {
   "cell_type": "code",
   "execution_count": 9,
   "metadata": {},
   "outputs": [],
   "source": [
    "# Create route variable with a minimum 0 units and max 200 units \n",
    "route_vars = LpVariable.dicts(\"Route\",(dfShip['node_orig'], dfShip['node_dest']),0,200,LpInteger)"
   ]
  },
  {
   "cell_type": "markdown",
   "metadata": {},
   "source": [
    "## 4. Define shipping costs and set minimum constraints\n",
    "all supplier nodes should give their supply and all demander nodes must meet their demand"
   ]
  },
  {
   "cell_type": "code",
   "execution_count": 11,
   "metadata": {},
   "outputs": [],
   "source": [
    "prob += lpSum([route_vars[o][d]*route_cost[(o,d)] for (o,d) in route_cost.keys()]), \"Sum of Transporting Costs\""
   ]
  },
  {
   "cell_type": "code",
   "execution_count": 14,
   "metadata": {},
   "outputs": [],
   "source": [
    "# The supply maximum constraints are added to prob for each supply node \n",
    "for s in suppliers:\n",
    "    prob += lpSum([route_vars[s][d] for d in demanders]) <= orig_supply[s], \"Sum of Products out of Origin %s\"%s\n",
    "\n",
    "# The demand minimum constraints are added to prob for each demand node \n",
    "for d in demanders:\n",
    "    prob += lpSum([route_vars[s][d] for s in suppliers]) >= orig_supply[d], \"Sum of Products into Destination %s\"%d"
   ]
  },
  {
   "cell_type": "markdown",
   "metadata": {},
   "source": [
    "## 5. Write the problem to a file and solve"
   ]
  },
  {
   "cell_type": "code",
   "execution_count": 15,
   "metadata": {
    "collapsed": true,
    "jupyter": {
     "outputs_hidden": true
    }
   },
   "outputs": [
    {
     "data": {
      "text/plain": [
       "[Route_ATL_DFW,\n",
       " Route_ATL_JFK,\n",
       " Route_ATL_ORD,\n",
       " Route_AUS_ATL,\n",
       " Route_AUS_DFW,\n",
       " Route_AUS_JFK,\n",
       " Route_AUS_LAX,\n",
       " Route_AUS_ORD,\n",
       " Route_DFW_ATL,\n",
       " Route_DFW_JFK,\n",
       " Route_DFW_LAX,\n",
       " Route_DFW_ORD,\n",
       " Route_GNV_ATL,\n",
       " Route_GNV_DFW,\n",
       " Route_GNV_JFK,\n",
       " Route_GNV_LAX,\n",
       " Route_GNV_ORD,\n",
       " Route_PHX_ATL,\n",
       " Route_PHX_DFW,\n",
       " Route_PHX_JFK,\n",
       " Route_PHX_LAX,\n",
       " Route_PHX_ORD]"
      ]
     },
     "execution_count": 15,
     "metadata": {},
     "output_type": "execute_result"
    }
   ],
   "source": [
    "# The problem data is written to an .lp file\n",
    "prob.writeLP(\"ShippingProblem.lp\")"
   ]
  },
  {
   "cell_type": "code",
   "execution_count": 24,
   "metadata": {},
   "outputs": [
    {
     "name": "stdout",
     "output_type": "stream",
     "text": [
      "Status: Optimal\n",
      "Route_ATL_DFW = 0.0\n",
      "Route_ATL_JFK = 0.0\n",
      "Route_ATL_ORD = 0.0\n",
      "Route_AUS_ATL = 0.0\n",
      "Route_AUS_DFW = 100.0\n",
      "Route_AUS_JFK = 50.0\n",
      "Route_AUS_LAX = 0.0\n",
      "Route_AUS_ORD = 50.0\n",
      "Route_DFW_ATL = 0.0\n",
      "Route_DFW_JFK = 0.0\n",
      "Route_DFW_LAX = 0.0\n",
      "Route_DFW_ORD = 0.0\n",
      "Route_GNV_ATL = 0.0\n",
      "Route_GNV_DFW = 0.0\n",
      "Route_GNV_JFK = 0.0\n",
      "Route_GNV_LAX = 50.0\n",
      "Route_GNV_ORD = 150.0\n",
      "Route_PHX_ATL = 150.0\n",
      "Route_PHX_DFW = 200.0\n",
      "Route_PHX_JFK = 200.0\n",
      "Route_PHX_LAX = 150.0\n",
      "Route_PHX_ORD = 0.0\n",
      "Total Cost of Transportation =  2300.0\n"
     ]
    }
   ],
   "source": [
    "# The problem is solved using PuLP's choice of Solver\n",
    "prob.solve()\n",
    "\n",
    "# The status of the solution is printed to the screen\n",
    "print(\"Status:\", LpStatus[prob.status])\n",
    "\n",
    "# Each of the variables is printed with it's resolved optimum value\n",
    "for v in prob.variables():\n",
    "    print(v.name, \"=\", v.varValue)\n",
    "\n",
    "# The optimised objective function value is printed to the screen    \n",
    "print(\"Total Cost of Transportation = \", value(prob.objective))"
   ]
  },
  {
   "cell_type": "markdown",
   "metadata": {},
   "source": [
    "The solution yields a minimum, if I had more time, I would validate this solution"
   ]
  },
  {
   "cell_type": "code",
   "execution_count": null,
   "metadata": {},
   "outputs": [],
   "source": []
  }
 ],
 "metadata": {
  "kernelspec": {
   "display_name": "Python 3",
   "language": "python",
   "name": "python3"
  },
  "language_info": {
   "codemirror_mode": {
    "name": "ipython",
    "version": 3
   },
   "file_extension": ".py",
   "mimetype": "text/x-python",
   "name": "python",
   "nbconvert_exporter": "python",
   "pygments_lexer": "ipython3",
   "version": "3.7.4"
  }
 },
 "nbformat": 4,
 "nbformat_minor": 4
}
