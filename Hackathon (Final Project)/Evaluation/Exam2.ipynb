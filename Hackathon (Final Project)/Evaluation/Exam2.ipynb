{
 "cells": [
  {
   "cell_type": "markdown",
   "metadata": {},
   "source": [
    "## Load Data"
   ]
  },
  {
   "cell_type": "code",
   "execution_count": 22,
   "metadata": {},
   "outputs": [
    {
     "data": {
      "text/html": [
       "<div>\n",
       "<style scoped>\n",
       "    .dataframe tbody tr th:only-of-type {\n",
       "        vertical-align: middle;\n",
       "    }\n",
       "\n",
       "    .dataframe tbody tr th {\n",
       "        vertical-align: top;\n",
       "    }\n",
       "\n",
       "    .dataframe thead th {\n",
       "        text-align: right;\n",
       "    }\n",
       "</style>\n",
       "<table border=\"1\" class=\"dataframe\">\n",
       "  <thead>\n",
       "    <tr style=\"text-align: right;\">\n",
       "      <th></th>\n",
       "      <th>Id</th>\n",
       "      <th>Province_State</th>\n",
       "      <th>Date</th>\n",
       "      <th>ConfirmedCases</th>\n",
       "      <th>Fatalities</th>\n",
       "    </tr>\n",
       "    <tr>\n",
       "      <th>Country_Region</th>\n",
       "      <th></th>\n",
       "      <th></th>\n",
       "      <th></th>\n",
       "      <th></th>\n",
       "      <th></th>\n",
       "    </tr>\n",
       "  </thead>\n",
       "  <tbody>\n",
       "    <tr>\n",
       "      <th>Afghanistan</th>\n",
       "      <td>1</td>\n",
       "      <td>NaN</td>\n",
       "      <td>2020-01-22</td>\n",
       "      <td>0.0</td>\n",
       "      <td>0.0</td>\n",
       "    </tr>\n",
       "    <tr>\n",
       "      <th>Afghanistan</th>\n",
       "      <td>2</td>\n",
       "      <td>NaN</td>\n",
       "      <td>2020-01-23</td>\n",
       "      <td>0.0</td>\n",
       "      <td>0.0</td>\n",
       "    </tr>\n",
       "    <tr>\n",
       "      <th>Afghanistan</th>\n",
       "      <td>3</td>\n",
       "      <td>NaN</td>\n",
       "      <td>2020-01-24</td>\n",
       "      <td>0.0</td>\n",
       "      <td>0.0</td>\n",
       "    </tr>\n",
       "    <tr>\n",
       "      <th>Afghanistan</th>\n",
       "      <td>4</td>\n",
       "      <td>NaN</td>\n",
       "      <td>2020-01-25</td>\n",
       "      <td>0.0</td>\n",
       "      <td>0.0</td>\n",
       "    </tr>\n",
       "    <tr>\n",
       "      <th>Afghanistan</th>\n",
       "      <td>5</td>\n",
       "      <td>NaN</td>\n",
       "      <td>2020-01-26</td>\n",
       "      <td>0.0</td>\n",
       "      <td>0.0</td>\n",
       "    </tr>\n",
       "  </tbody>\n",
       "</table>\n",
       "</div>"
      ],
      "text/plain": [
       "                Id Province_State        Date  ConfirmedCases  Fatalities\n",
       "Country_Region                                                           \n",
       "Afghanistan      1            NaN  2020-01-22             0.0         0.0\n",
       "Afghanistan      2            NaN  2020-01-23             0.0         0.0\n",
       "Afghanistan      3            NaN  2020-01-24             0.0         0.0\n",
       "Afghanistan      4            NaN  2020-01-25             0.0         0.0\n",
       "Afghanistan      5            NaN  2020-01-26             0.0         0.0"
      ]
     },
     "execution_count": 22,
     "metadata": {},
     "output_type": "execute_result"
    }
   ],
   "source": [
    "import pandas as pd\n",
    "df = pd.read_csv('../Project/covid-selected/train.csv',index_col ='Country_Region')\n",
    "df.head()"
   ]
  },
  {
   "cell_type": "code",
   "execution_count": 23,
   "metadata": {},
   "outputs": [],
   "source": [
    "# convert date into datetime\n",
    "df['Date'] = pd.to_datetime(df['Date'])"
   ]
  },
  {
   "cell_type": "markdown",
   "metadata": {},
   "source": [
    "## Case Study: China"
   ]
  },
  {
   "cell_type": "code",
   "execution_count": 24,
   "metadata": {},
   "outputs": [
    {
     "data": {
      "text/html": [
       "<div>\n",
       "<style scoped>\n",
       "    .dataframe tbody tr th:only-of-type {\n",
       "        vertical-align: middle;\n",
       "    }\n",
       "\n",
       "    .dataframe tbody tr th {\n",
       "        vertical-align: top;\n",
       "    }\n",
       "\n",
       "    .dataframe thead th {\n",
       "        text-align: right;\n",
       "    }\n",
       "</style>\n",
       "<table border=\"1\" class=\"dataframe\">\n",
       "  <thead>\n",
       "    <tr style=\"text-align: right;\">\n",
       "      <th></th>\n",
       "      <th>Id</th>\n",
       "      <th>Province_State</th>\n",
       "      <th>Date</th>\n",
       "      <th>ConfirmedCases</th>\n",
       "      <th>Fatalities</th>\n",
       "    </tr>\n",
       "    <tr>\n",
       "      <th>Country_Region</th>\n",
       "      <th></th>\n",
       "      <th></th>\n",
       "      <th></th>\n",
       "      <th></th>\n",
       "      <th></th>\n",
       "    </tr>\n",
       "  </thead>\n",
       "  <tbody>\n",
       "    <tr>\n",
       "      <th>China</th>\n",
       "      <td>6157</td>\n",
       "      <td>Anhui</td>\n",
       "      <td>2020-01-22</td>\n",
       "      <td>1.0</td>\n",
       "      <td>0.0</td>\n",
       "    </tr>\n",
       "    <tr>\n",
       "      <th>China</th>\n",
       "      <td>6158</td>\n",
       "      <td>Anhui</td>\n",
       "      <td>2020-01-23</td>\n",
       "      <td>9.0</td>\n",
       "      <td>0.0</td>\n",
       "    </tr>\n",
       "    <tr>\n",
       "      <th>China</th>\n",
       "      <td>6159</td>\n",
       "      <td>Anhui</td>\n",
       "      <td>2020-01-24</td>\n",
       "      <td>15.0</td>\n",
       "      <td>0.0</td>\n",
       "    </tr>\n",
       "    <tr>\n",
       "      <th>China</th>\n",
       "      <td>6160</td>\n",
       "      <td>Anhui</td>\n",
       "      <td>2020-01-25</td>\n",
       "      <td>39.0</td>\n",
       "      <td>0.0</td>\n",
       "    </tr>\n",
       "    <tr>\n",
       "      <th>China</th>\n",
       "      <td>6161</td>\n",
       "      <td>Anhui</td>\n",
       "      <td>2020-01-26</td>\n",
       "      <td>60.0</td>\n",
       "      <td>0.0</td>\n",
       "    </tr>\n",
       "  </tbody>\n",
       "</table>\n",
       "</div>"
      ],
      "text/plain": [
       "                  Id Province_State       Date  ConfirmedCases  Fatalities\n",
       "Country_Region                                                            \n",
       "China           6157          Anhui 2020-01-22             1.0         0.0\n",
       "China           6158          Anhui 2020-01-23             9.0         0.0\n",
       "China           6159          Anhui 2020-01-24            15.0         0.0\n",
       "China           6160          Anhui 2020-01-25            39.0         0.0\n",
       "China           6161          Anhui 2020-01-26            60.0         0.0"
      ]
     },
     "execution_count": 24,
     "metadata": {},
     "output_type": "execute_result"
    }
   ],
   "source": [
    "sub_df = df.loc['China',:]\n",
    "sub_df.head()"
   ]
  },
  {
   "cell_type": "code",
   "execution_count": 25,
   "metadata": {},
   "outputs": [],
   "source": [
    "#Confirmed Cases Sum for Every Date\n",
    "sub_df_summed = sub_df['ConfirmedCases'].groupby(sub_df['Date']).sum()\n",
    "sub_df_summed2=sub_df_summed.reset_index()"
   ]
  },
  {
   "cell_type": "code",
   "execution_count": 26,
   "metadata": {},
   "outputs": [],
   "source": [
    "# Fatalities Sum for Every Date\n",
    "sub_df_dead_summed = sub_df['Fatalities'].groupby(sub_df['Date']).sum()\n",
    "sub_df_dead_summed2=sub_df_dead_summed.reset_index()"
   ]
  },
  {
   "cell_type": "code",
   "execution_count": 76,
   "metadata": {},
   "outputs": [],
   "source": [
    "def process_data(df, country):\n",
    "    # Initialize new df for specified country\n",
    "    country_df = pd.DataFrame()\n",
    "    # Sum cases and fatalities by date\n",
    "    country_df['ConfirmedCases'] = df.loc[country,'ConfirmedCases'].groupby(df.loc[country,'Date']).sum()\n",
    "    country_df['Fatalities'] = df.loc[country,'Fatalities'].groupby(df.loc[country,'Date']).sum()\n",
    "    # Only keep days since first case\n",
    "    country_df = country_df.loc[country_df['ConfirmedCases'] > 0,:]\n",
    "    # Reset index to use date as a column\n",
    "    country_df = country_df.reset_index()\n",
    "    # Set days as an integer since the first case\n",
    "    country_df['days'] = country_df['Date'] - country_df.loc[0,'Date']\n",
    "    country_df['days'] = country_df['days'].dt.days\n",
    "    return country_df\n",
    "    \n",
    "    "
   ]
  },
  {
   "cell_type": "code",
   "execution_count": 50,
   "metadata": {},
   "outputs": [
    {
     "data": {
      "text/html": [
       "<div>\n",
       "<style scoped>\n",
       "    .dataframe tbody tr th:only-of-type {\n",
       "        vertical-align: middle;\n",
       "    }\n",
       "\n",
       "    .dataframe tbody tr th {\n",
       "        vertical-align: top;\n",
       "    }\n",
       "\n",
       "    .dataframe thead th {\n",
       "        text-align: right;\n",
       "    }\n",
       "</style>\n",
       "<table border=\"1\" class=\"dataframe\">\n",
       "  <thead>\n",
       "    <tr style=\"text-align: right;\">\n",
       "      <th></th>\n",
       "      <th>Date</th>\n",
       "      <th>ConfirmedCases</th>\n",
       "      <th>Fatalities</th>\n",
       "      <th>days</th>\n",
       "    </tr>\n",
       "  </thead>\n",
       "  <tbody>\n",
       "    <tr>\n",
       "      <th>0</th>\n",
       "      <td>2020-01-22</td>\n",
       "      <td>548.0</td>\n",
       "      <td>17.0</td>\n",
       "      <td>0</td>\n",
       "    </tr>\n",
       "    <tr>\n",
       "      <th>1</th>\n",
       "      <td>2020-01-23</td>\n",
       "      <td>643.0</td>\n",
       "      <td>18.0</td>\n",
       "      <td>1</td>\n",
       "    </tr>\n",
       "    <tr>\n",
       "      <th>2</th>\n",
       "      <td>2020-01-24</td>\n",
       "      <td>920.0</td>\n",
       "      <td>26.0</td>\n",
       "      <td>2</td>\n",
       "    </tr>\n",
       "    <tr>\n",
       "      <th>3</th>\n",
       "      <td>2020-01-25</td>\n",
       "      <td>1406.0</td>\n",
       "      <td>42.0</td>\n",
       "      <td>3</td>\n",
       "    </tr>\n",
       "    <tr>\n",
       "      <th>4</th>\n",
       "      <td>2020-01-26</td>\n",
       "      <td>2075.0</td>\n",
       "      <td>56.0</td>\n",
       "      <td>4</td>\n",
       "    </tr>\n",
       "    <tr>\n",
       "      <th>...</th>\n",
       "      <td>...</td>\n",
       "      <td>...</td>\n",
       "      <td>...</td>\n",
       "      <td>...</td>\n",
       "    </tr>\n",
       "    <tr>\n",
       "      <th>74</th>\n",
       "      <td>2020-04-05</td>\n",
       "      <td>82602.0</td>\n",
       "      <td>3333.0</td>\n",
       "      <td>74</td>\n",
       "    </tr>\n",
       "    <tr>\n",
       "      <th>75</th>\n",
       "      <td>2020-04-06</td>\n",
       "      <td>82665.0</td>\n",
       "      <td>3335.0</td>\n",
       "      <td>75</td>\n",
       "    </tr>\n",
       "    <tr>\n",
       "      <th>76</th>\n",
       "      <td>2020-04-07</td>\n",
       "      <td>82718.0</td>\n",
       "      <td>3335.0</td>\n",
       "      <td>76</td>\n",
       "    </tr>\n",
       "    <tr>\n",
       "      <th>77</th>\n",
       "      <td>2020-04-08</td>\n",
       "      <td>82809.0</td>\n",
       "      <td>3337.0</td>\n",
       "      <td>77</td>\n",
       "    </tr>\n",
       "    <tr>\n",
       "      <th>78</th>\n",
       "      <td>2020-04-09</td>\n",
       "      <td>82883.0</td>\n",
       "      <td>3339.0</td>\n",
       "      <td>78</td>\n",
       "    </tr>\n",
       "  </tbody>\n",
       "</table>\n",
       "<p>79 rows × 4 columns</p>\n",
       "</div>"
      ],
      "text/plain": [
       "         Date  ConfirmedCases  Fatalities  days\n",
       "0  2020-01-22           548.0        17.0     0\n",
       "1  2020-01-23           643.0        18.0     1\n",
       "2  2020-01-24           920.0        26.0     2\n",
       "3  2020-01-25          1406.0        42.0     3\n",
       "4  2020-01-26          2075.0        56.0     4\n",
       "..        ...             ...         ...   ...\n",
       "74 2020-04-05         82602.0      3333.0    74\n",
       "75 2020-04-06         82665.0      3335.0    75\n",
       "76 2020-04-07         82718.0      3335.0    76\n",
       "77 2020-04-08         82809.0      3337.0    77\n",
       "78 2020-04-09         82883.0      3339.0    78\n",
       "\n",
       "[79 rows x 4 columns]"
      ]
     },
     "execution_count": 50,
     "metadata": {},
     "output_type": "execute_result"
    }
   ],
   "source": [
    "process_data(df,'China')"
   ]
  },
  {
   "cell_type": "code",
   "execution_count": 90,
   "metadata": {},
   "outputs": [],
   "source": [
    "def split_data(country_df, test_size=0.8):\n",
    "    split_index = round(len(country_df.index)*test_size)\n",
    "    train = country_df.loc[country_df.index < split_index, :]\n",
    "    test = country_df.loc[country_df.index >= split_index, :]\n",
    "    x_train = train['days']\n",
    "    x_test = test['days']\n",
    "    y_train = train['ConfirmedCases']\n",
    "    y_test = test['ConfirmedCases']\n",
    "    return x_train, x_test, y_train, y_test"
   ]
  },
  {
   "cell_type": "code",
   "execution_count": 61,
   "metadata": {},
   "outputs": [],
   "source": [
    "split_data(process_data(df,'China'))"
   ]
  },
  {
   "cell_type": "code",
   "execution_count": 16,
   "metadata": {},
   "outputs": [
    {
     "name": "stderr",
     "output_type": "stream",
     "text": [
      "C:\\Users\\044yo\\Anaconda3\\lib\\site-packages\\pandas\\plotting\\_matplotlib\\converter.py:103: FutureWarning: Using an implicitly registered datetime converter for a matplotlib plotting method. The converter was registered by pandas on import. Future versions of pandas will require you to explicitly register matplotlib converters.\n",
      "\n",
      "To register the converters:\n",
      "\t>>> from pandas.plotting import register_matplotlib_converters\n",
      "\t>>> register_matplotlib_converters()\n",
      "  warnings.warn(msg, FutureWarning)\n"
     ]
    },
    {
     "data": {
      "text/plain": [
       "<matplotlib.axes._subplots.AxesSubplot at 0x22d7e1abc48>"
      ]
     },
     "execution_count": 16,
     "metadata": {},
     "output_type": "execute_result"
    },
    {
     "data": {
      "image/png": "[encoded data removed]",
      "text/plain": [
       "<Figure size 432x288 with 1 Axes>"
      ]
     },
     "metadata": {
      "needs_background": "light"
     },
     "output_type": "display_data"
    }
   ],
   "source": [
    "#Plotting Chinese Confirmed Cases Data\n",
    "import seaborn as sns\n",
    "sns.lineplot(data=sub_df_summed, label='Cases')\n",
    "sns.lineplot(data=sub_df_dead_summed, hue='r', label='Fatalities')"
   ]
  },
  {
   "cell_type": "markdown",
   "metadata": {},
   "source": [
    "## Modeling: Logistic Growth (Peaking Included)"
   ]
  },
  {
   "cell_type": "code",
   "execution_count": 60,
   "metadata": {},
   "outputs": [],
   "source": [
    "#Defining Logistic Growth Function\n",
    "def logisticf(t,a,b,c):\n",
    "    logistic_growth=c/(1+a*np.exp(-b*t))\n",
    "    return logistic_growth"
   ]
  },
  {
   "cell_type": "code",
   "execution_count": 64,
   "metadata": {},
   "outputs": [
    {
     "data": {
      "text/html": [
       "<div>\n",
       "<style scoped>\n",
       "    .dataframe tbody tr th:only-of-type {\n",
       "        vertical-align: middle;\n",
       "    }\n",
       "\n",
       "    .dataframe tbody tr th {\n",
       "        vertical-align: top;\n",
       "    }\n",
       "\n",
       "    .dataframe thead th {\n",
       "        text-align: right;\n",
       "    }\n",
       "</style>\n",
       "<table border=\"1\" class=\"dataframe\">\n",
       "  <thead>\n",
       "    <tr style=\"text-align: right;\">\n",
       "      <th></th>\n",
       "      <th>Date</th>\n",
       "      <th>ConfirmedCases</th>\n",
       "      <th>days</th>\n",
       "    </tr>\n",
       "  </thead>\n",
       "  <tbody>\n",
       "    <tr>\n",
       "      <th>0</th>\n",
       "      <td>2020-01-22</td>\n",
       "      <td>548.0</td>\n",
       "      <td>0</td>\n",
       "    </tr>\n",
       "    <tr>\n",
       "      <th>1</th>\n",
       "      <td>2020-01-23</td>\n",
       "      <td>643.0</td>\n",
       "      <td>1</td>\n",
       "    </tr>\n",
       "    <tr>\n",
       "      <th>2</th>\n",
       "      <td>2020-01-24</td>\n",
       "      <td>920.0</td>\n",
       "      <td>2</td>\n",
       "    </tr>\n",
       "    <tr>\n",
       "      <th>3</th>\n",
       "      <td>2020-01-25</td>\n",
       "      <td>1406.0</td>\n",
       "      <td>3</td>\n",
       "    </tr>\n",
       "    <tr>\n",
       "      <th>4</th>\n",
       "      <td>2020-01-26</td>\n",
       "      <td>2075.0</td>\n",
       "      <td>4</td>\n",
       "    </tr>\n",
       "  </tbody>\n",
       "</table>\n",
       "</div>"
      ],
      "text/plain": [
       "        Date  ConfirmedCases  days\n",
       "0 2020-01-22           548.0     0\n",
       "1 2020-01-23           643.0     1\n",
       "2 2020-01-24           920.0     2\n",
       "3 2020-01-25          1406.0     3\n",
       "4 2020-01-26          2075.0     4"
      ]
     },
     "execution_count": 64,
     "metadata": {},
     "output_type": "execute_result"
    }
   ],
   "source": [
    "p0=np.random.exponential(size=3)\n",
    "#Convert the dates to days since the first listed day\n",
    "dates=sub_df_summed2.iloc[:,0]-sub_df_summed2.iloc[0,0]\n",
    "#sub_df_summed2['days']=dt.days\n",
    "sub_df_summed2['days']=dates.dt.days\n",
    "sub_df_summed2.head()"
   ]
  },
  {
   "cell_type": "code",
   "execution_count": 68,
   "metadata": {},
   "outputs": [
    {
     "name": "stdout",
     "output_type": "stream",
     "text": [
      "51.271168248984125 0.221523589852277 81021.46997050659\n"
     ]
    }
   ],
   "source": [
    "import scipy.optimize as optim\n",
    "import numpy as np\n",
    "#fit to a logistic function \n",
    "x = np.array(sub_df_summed2['days'])\n",
    "y=np.array(sub_df_summed2['ConfirmedCases'])\n",
    "bounds =(0,[100000., 3., 1000000.])\n",
    "(a,b,c), cov = optim.curve_fit(logisticf, x_train,y_train, bounds=bounds,p0=p0)\n",
    "print(a,b,c)"
   ]
  },
  {
   "cell_type": "code",
   "execution_count": 69,
   "metadata": {},
   "outputs": [
    {
     "data": {
      "text/plain": [
       "4516.959442438933"
      ]
     },
     "execution_count": 69,
     "metadata": {},
     "output_type": "execute_result"
    }
   ],
   "source": [
    "#Function with the fitted parameters from optimize\n",
    "def logigrowth(t):\n",
    "    return  c/(1+a*np.exp(-b*t))\n",
    "logigrowth(5)"
   ]
  },
  {
   "cell_type": "code",
   "execution_count": 71,
   "metadata": {},
   "outputs": [
    {
     "data": {
      "text/plain": [
       "Text(0, 0.5, 'Confirmed Cases')"
      ]
     },
     "execution_count": 71,
     "metadata": {},
     "output_type": "execute_result"
    },
    {
     "data": {
      "image/png": "[encoded data removed]",
      "text/plain": [
       "<Figure size 432x288 with 1 Axes>"
      ]
     },
     "metadata": {
      "needs_background": "light"
     },
     "output_type": "display_data"
    }
   ],
   "source": [
    "import matplotlib.pyplot as plt\n",
    "#Scatter plot the data and show the fitted line of logistic function \n",
    "plt.scatter(x,y)\n",
    "plt.plot(x_test, logigrowth(x_test), 'r')\n",
    "plt.xlabel('Days since first case')\n",
    "plt.ylabel('Confirmed Cases')"
   ]
  },
  {
   "cell_type": "markdown",
   "metadata": {},
   "source": [
    "## Future plans for the team assignment\n",
    "0. Shift the dates to start from the first case\n",
    "1. Import HDI data from Global Data Lab and countries' urbanization levels/regions from the World Bank\n",
    "2. Explore predicting logistic function parameter values from the imported variable values\n",
    "3. Scale to population\n",
    "Motivation: Better prediction for countries with less developed healthcare systems "
   ]
  },
  {
   "cell_type": "code",
   "execution_count": 137,
   "metadata": {},
   "outputs": [
    {
     "name": "stdout",
     "output_type": "stream",
     "text": [
      "Algeria mae: 255.0 total cases: 1666.0 15.0 %\n",
      "Argentina mae: 136.0 total cases: 1795.0 8.0 %\n",
      "Australia mae: 696.0 total cases: 6108.0 11.0 %\n",
      "Austria mae: 426.0 total cases: 13244.0 3.0 %\n",
      "Belarus mae: 526.0 total cases: 1486.0 35.0 %\n",
      "Belgium mae: 1065.0 total cases: 24983.0 4.0 %\n",
      "Brazil mae: 5212.0 total cases: 18092.0 29.0 %\n",
      "Canada mae: 4891.0 total cases: 20641.0 24.0 %\n",
      "Chile mae: 782.0 total cases: 5972.0 13.0 %\n",
      "China mae: 1321.0 total cases: 82883.0 2.0 %\n",
      "Colombia mae: 222.0 total cases: 2223.0 10.0 %\n",
      "Croatia mae: 170.0 total cases: 1407.0 12.0 %\n",
      "Czechia mae: 545.0 total cases: 5569.0 10.0 %\n",
      "Denmark mae: 1298.0 total cases: 5830.0 22.0 %\n",
      "Dominican Republic mae: 201.0 total cases: 2349.0 9.0 %\n",
      "Ecuador mae: 1074.0 total cases: 4965.0 22.0 %\n",
      "Egypt mae: 388.0 total cases: 1699.0 23.0 %\n",
      "Estonia mae: 143.0 total cases: 1207.0 12.0 %\n",
      "Finland mae: 349.0 total cases: 2605.0 13.0 %\n",
      "Error with France\n",
      "Germany mae: 4574.0 total cases: 118181.0 4.0 %\n",
      "Greece mae: 182.0 total cases: 1955.0 9.0 %\n",
      "Iceland mae: 145.0 total cases: 1648.0 9.0 %\n",
      "India mae: 1244.0 total cases: 6725.0 18.0 %\n",
      "Indonesia mae: 460.0 total cases: 3293.0 14.0 %\n",
      "Iran mae: 6489.0 total cases: 66220.0 10.0 %\n",
      "Iraq mae: 310.0 total cases: 1232.0 25.0 %\n",
      "Ireland mae: 1148.0 total cases: 6574.0 17.0 %\n",
      "Israel mae: 1596.0 total cases: 9968.0 16.0 %\n",
      "Italy mae: 14518.0 total cases: 143626.0 10.0 %\n",
      "Japan mae: 1244.0 total cases: 4667.0 27.0 %\n",
      "Korea, South mae: 1260.0 total cases: 10423.0 12.0 %\n",
      "Luxembourg mae: 445.0 total cases: 3115.0 14.0 %\n",
      "Malaysia mae: 187.0 total cases: 4228.0 4.0 %\n",
      "Mexico mae: 413.0 total cases: 3181.0 13.0 %\n",
      "Moldova mae: 99.0 total cases: 1289.0 8.0 %\n",
      "Morocco mae: 200.0 total cases: 1374.0 15.0 %\n",
      "Netherlands mae: 1212.0 total cases: 21903.0 6.0 %\n",
      "New Zealand mae: 249.0 total cases: 1239.0 20.0 %\n",
      "Norway mae: 297.0 total cases: 6211.0 5.0 %\n",
      "Pakistan mae: 1264.0 total cases: 4489.0 28.0 %\n",
      "Error with Panama\n",
      "Error with Peru\n",
      "Philippines mae: 999.0 total cases: 4076.0 24.0 %\n",
      "Poland mae: 756.0 total cases: 5575.0 14.0 %\n",
      "Portugal mae: 1103.0 total cases: 13956.0 8.0 %\n",
      "Qatar mae: 1024.0 total cases: 2376.0 43.0 %\n",
      "Romania mae: 309.0 total cases: 5202.0 6.0 %\n",
      "Error with Russia\n",
      "Saudi Arabia mae: 618.0 total cases: 3287.0 19.0 %\n",
      "Serbia mae: 576.0 total cases: 2867.0 20.0 %\n",
      "Singapore mae: 128.0 total cases: 1910.0 7.0 %\n",
      "Slovenia mae: 67.0 total cases: 1124.0 6.0 %\n",
      "South Africa mae: 241.0 total cases: 1934.0 12.0 %\n",
      "Spain mae: 17604.0 total cases: 153222.0 11.0 %\n",
      "Error with Sweden\n",
      "Switzerland mae: 2999.0 total cases: 24051.0 12.0 %\n",
      "Error with Thailand\n",
      "Turkey mae: 7421.0 total cases: 42282.0 18.0 %\n",
      "US mae: 41995.0 total cases: 461274.0 9.0 %\n",
      "Ukraine mae: 277.0 total cases: 1892.0 15.0 %\n",
      "United Arab Emirates mae: 554.0 total cases: 2990.0 19.0 %\n",
      "Error with United Kingdom\n"
     ]
    }
   ],
   "source": [
    "from sklearn.metrics import mean_absolute_error\n",
    "results = dict()\n",
    "# Get list of countries that have had at least 1000 cases\n",
    "country_list = df.loc[df['ConfirmedCases'] > 1000,:].index.unique()\n",
    "# Loop over countries...\n",
    "for country in country_list:\n",
    "    try:\n",
    "        x_train, x_test, y_train, y_test = split_data(process_data(df,country))\n",
    "        p0=np.random.exponential(size=3)\n",
    "        bounds =(0,[100000., 3., 1000000.])\n",
    "        (a,b,c), cov = optim.curve_fit(logisticf, x_train,y_train, bounds=bounds,p0=p0)\n",
    "        def logigrowth(t):\n",
    "            return  c/(1+a*np.exp(-b*t))\n",
    "        mae = mean_absolute_error(y_test, logigrowth(x_test))\n",
    "        print(country, 'mae:',round(mae), 'total cases:', y_test.iloc[-1], round(mae/y_test.iloc[-1]*100),'%')\n",
    "        plot_stuff = (x_train,y_train,x_test,y_test,x_test,logigrowth(x_test))\n",
    "        results[country] = (mae, y_test.iloc[-1], (plot_stuff))\n",
    "    except:\n",
    "        print(f\"Error with {country}\")\n",
    "    "
   ]
  },
  {
   "cell_type": "code",
   "execution_count": 141,
   "metadata": {},
   "outputs": [
    {
     "data": {
      "text/plain": [
       "[<matplotlib.lines.Line2D at 0x1a29013290>,\n",
       " <matplotlib.lines.Line2D at 0x1a29013550>,\n",
       " <matplotlib.lines.Line2D at 0x1a29013750>]"
      ]
     },
     "execution_count": 141,
     "metadata": {},
     "output_type": "execute_result"
    },
    {
     "data": {
      "image/png": "[encoded data removed]",
      "text/plain": [
       "<Figure size 432x288 with 1 Axes>"
      ]
     },
     "metadata": {
      "needs_background": "light"
     },
     "output_type": "display_data"
    }
   ],
   "source": [
    "mae, cases, plot_stuff = results['Qatar']\n",
    "x_train, y_train, x_test, y_test, x_test, y_test_pred = plot_stuff\n",
    "plt.plot(x_train,y_train, 'b', x_test,y_test, 'b', x_test, y_test_pred, 'r')"
   ]
  },
  {
   "cell_type": "code",
   "execution_count": null,
   "metadata": {},
   "outputs": [],
   "source": []
  }
 ],
 "metadata": {
  "kernelspec": {
   "display_name": "Python 3",
   "language": "python",
   "name": "python3"
  },
  "language_info": {
   "codemirror_mode": {
    "name": "ipython",
    "version": 3
   },
   "file_extension": ".py",
   "mimetype": "text/x-python",
   "name": "python",
   "nbconvert_exporter": "python",
   "pygments_lexer": "ipython3",
   "version": "3.7.4"
  }
 },
 "nbformat": 4,
 "nbformat_minor": 4
}
